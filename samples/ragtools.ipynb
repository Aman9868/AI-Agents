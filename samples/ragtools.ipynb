{
 "cells": [
  {
   "cell_type": "code",
   "execution_count": 2,
   "metadata": {},
   "outputs": [],
   "source": [
    "import os\n",
    "from dotenv import load_dotenv\n",
    "load_dotenv()\n",
    "os.environ['SERPER_API_KEY']\n",
    "os.environ['LANGSMITH_API_KEY']\n",
    "os.environ['LANGSMITH_PROJECT']\n",
    "os.environ['TAVILY_API_KEY']\n",
    "from langchain_community.document_loaders import WebBaseLoader\n",
    "from langchain_community.vectorstores import Chroma\n",
    "from langchain_text_splitters import RecursiveCharacterTextSplitter\n",
    "from langchain_ollama import OllamaEmbeddings\n",
    "from langchain_ollama import ChatOllama"
   ]
  },
  {
   "cell_type": "code",
   "execution_count": 3,
   "metadata": {},
   "outputs": [],
   "source": [
    "urls=[\"https://www.langchain.com/langsmith\",\"https://www.langchain.com/langgraph\"]\n",
    "docs=[WebBaseLoader(i).load() for i in urls]\n",
    "text_splitter = RecursiveCharacterTextSplitter.from_tiktoken_encoder(\n",
    "    chunk_size=100, chunk_overlap=50\n",
    ")\n",
    "docs_list = [item for sublist in docs for item in sublist]\n",
    "doc_splits = text_splitter.split_documents(docs_list)\n",
    "\n",
    "# -----Add to vectorDB\n",
    "\n",
    "llm=ChatOllama(model=\"llama3.2\",temperature=0)\n",
    "\n",
    "embeddings = OllamaEmbeddings(\n",
    "    model=\"llama3.2\",\n",
    ")\n",
    "vectorstore = Chroma.from_documents(\n",
    "    documents=doc_splits,\n",
    "    \n",
    "    collection_name=\"rag-chroma\",\n",
    "    embedding=embeddings,\n",
    ")\n",
    "retriever = vectorstore.as_retriever()"
   ]
  },
  {
   "cell_type": "markdown",
   "metadata": {},
   "source": [
    "# Create Documents Retrival"
   ]
  },
  {
   "cell_type": "code",
   "execution_count": 4,
   "metadata": {},
   "outputs": [
    {
     "name": "stdout",
     "output_type": "stream",
     "text": [
      "retrieve_langchain_posts\n",
      "Search and return information about Langmsith or Langraph.For any question related to Langsmith or Langraph use only this tool!\n"
     ]
    }
   ],
   "source": [
    "from langchain.tools.retriever import create_retriever_tool\n",
    "from langchain_community.tools.tavily_search import  TavilySearchResults\n",
    "\n",
    "####---Google Search Results\n",
    "\n",
    "search=TavilySearchResults()\n",
    "\n",
    "##------Index Retrival\n",
    "retriever_tool = create_retriever_tool(\n",
    "    retriever,\n",
    "    \"retrieve_langchain_posts\",\n",
    "    \"Search and return information about Langmsith or Langraph.For any question related to Langsmith or Langraph use only this tool!\",\n",
    ")\n",
    "\n",
    "tools = [search,retriever_tool]\n",
    "print(retriever_tool.name)\n",
    "print(retriever_tool.description)"
   ]
  },
  {
   "cell_type": "code",
   "execution_count": 5,
   "metadata": {},
   "outputs": [],
   "source": [
    "from langchain import hub\n",
    "prompt=hub.pull(\"hwchase17/openai-functions-agent\")"
   ]
  },
  {
   "cell_type": "code",
   "execution_count": 6,
   "metadata": {},
   "outputs": [
    {
     "name": "stdout",
     "output_type": "stream",
     "text": [
      "\n",
      "\n",
      "\u001b[1m> Entering new AgentExecutor chain...\u001b[0m\n",
      "\u001b[32;1m\u001b[1;3m\n",
      "Invoking: `tavily_search_results_json` with `{'query': 'Current weather in Delhi'}`\n",
      "\n",
      "\n",
      "\u001b[0m\u001b[36;1m\u001b[1;3m[{'url': 'https://www.weatherapi.com/', 'content': \"{'location': {'name': 'Delhi', 'region': 'Ontario', 'country': 'Canada', 'lat': 42.85, 'lon': -80.5, 'tz_id': 'America/Toronto', 'localtime_epoch': 1737784779, 'localtime': '2025-01-25 00:59'}, 'current': {'last_updated_epoch': 1737783900, 'last_updated': '2025-01-25 00:45', 'temp_c': -9.2, 'temp_f': 15.4, 'is_day': 0, 'condition': {'text': 'Clear', 'icon': '//cdn.weatherapi.com/weather/64x64/night/113.png', 'code': 1000}, 'wind_mph': 6.0, 'wind_kph': 9.7, 'wind_degree': 238, 'wind_dir': 'WSW', 'pressure_mb': 1026.0, 'pressure_in': 30.3, 'precip_mm': 0.0, 'precip_in': 0.0, 'humidity': 85, 'cloud': 0, 'feelslike_c': -14.2, 'feelslike_f': 6.4, 'windchill_c': -17.6, 'windchill_f': 0.4, 'heatindex_c': -10.8, 'heatindex_f': 12.6, 'dewpoint_c': -13.0, 'dewpoint_f': 8.6, 'vis_km': 10.0, 'vis_miles': 6.0, 'uv': 0.0, 'gust_mph': 12.7, 'gust_kph': 20.4}}\"}, {'url': 'https://menafn.com/1109127543/Delhi-Weather-Forecast-And-AQI-Today-On-January-25-2025-Check-Out-The-Predicted-Minimum-And-Maximum-Temperatures', 'content': 'Looking ahead to tomorrow, Sunday, January 26, 2025, Delhi is projected by the India Meteorological Department (IMD) to have a minimum temperature of 12.28 °C and a maximum of 23.13 °C.'}, {'url': 'https://www.hindustantimes.com/cities/delhi-news/delhi-weather-today-aqi-and-rain-forecast-updates-january-25-2025-101737768603810.html', 'content': 'Delhi Weather and AQI Today: Check weather forecast for January 25, 2025 | Latest News Delhi - Hindustan Times HT E-paper Access digital news experience Delhi News Delhi News Delhi Weather and AQI Today: Check weather forecast for January 25, 2025 News / Cities / Delhi / Delhi Weather and AQI Today: Check weather forecast for January 25, 2025 India News Delhi News TRENDING NEWS India News Live Cricket News Live India News India News Live Cricket News Live Punjab Weather and AQI Today: Warm start at 8.93 °C, check weather forecast for January 25, 2025 Jammu and Kashmir Weather and AQI Today: Cool start at -32.56 °C, check weather forecast for January 25, 2025 India News US News india news News Photos More from HT'}, {'url': 'https://www.meteoprog.com/weather/Newdelhi/month/january/', 'content': 'New Delhi (India) weather in January 2025 ☀️ Accurate weather forecast for New Delhi in January ⛅ Detailed forecast By month Current temperature \"near me\" Weather news ⊳ Widget of weather ⊳ Water temperature | METEOPROG ... 25 January +20 °+9° 26 January +20'}, {'url': 'https://world-weather.info/forecast/india/delhi/january-2025/', 'content': \"Weather in Delhi in January 2025 (Union Territory of Delhi) - Detailed Weather Forecast for a Month Weather World Union Territory of Delhi Weather in Delhi Weather in Delhi in January 2025 Delhi Weather Forecast for January 2025, is based on previous years' statistical data. +66°+50° +66°+52° +64°+50° +66°+50° +66°+52° +66°+54° +64°+54° +64°+50° +64°+52° +64°+50° +66°+50° +66°+52° +68°+52° +66°+54° +64°+50° +64°+52° +64°+52° +66°+50° +66°+52° +64°+52° +64°+52° +68°+52° +68°+52° +68°+55° +68°+54° +68°+55° +68°+54° +68°+52° +70°+54° +70°+54° +70°+54° Extended weather forecast in Delhi HourlyWeek10-Day14-Day30-DayYear Weather in large and nearby cities Weather in New Delhi+54° Panipat+57° Muzaffarnagar+57° Karnāl+57° Aligarh+59° Alwar+59° Mathura+59° Sahāranpur+57° Morādābād+59° Rohtak+59° Meerut+61° Okhla Industrial Development Area+55° Nāngloi Jāt+57° Ghaziabad+57° Noida+55° Faridabad+57° Gurgaon+57° Sonīpat+57° world's temperature today day day Temperature units\"}]\u001b[0m\u001b[32;1m\u001b[1;3mThe current weather in Delhi is clear with a temperature of -9.2°C (15.4°F). The wind speed is 6.0 mph (9.7 km/h) from the west-southwest direction, and the pressure is 1026.0 mbar. There is no precipitation expected, and the humidity is at 85%.\u001b[0m\n",
      "\n",
      "\u001b[1m> Finished chain.\u001b[0m\n"
     ]
    },
    {
     "data": {
      "text/plain": [
       "{'input': 'Hello What is the  Current weather in Delhi',\n",
       " 'output': 'The current weather in Delhi is clear with a temperature of -9.2°C (15.4°F). The wind speed is 6.0 mph (9.7 km/h) from the west-southwest direction, and the pressure is 1026.0 mbar. There is no precipitation expected, and the humidity is at 85%.'}"
      ]
     },
     "execution_count": 6,
     "metadata": {},
     "output_type": "execute_result"
    }
   ],
   "source": [
    "from langchain.agents import create_tool_calling_agent\n",
    "from langchain.agents import  AgentExecutor\n",
    "agent=create_tool_calling_agent(llm, tools, prompt)\n",
    "agent_execute=AgentExecutor(agent=agent,tools=tools,verbose=True)\n",
    "agent_execute.invoke({\"input\":\"Hello What is the  Current weather in Delhi\"})"
   ]
  },
  {
   "cell_type": "code",
   "execution_count": 10,
   "metadata": {},
   "outputs": [
    {
     "name": "stdout",
     "output_type": "stream",
     "text": [
      "\n",
      "\n",
      "\u001b[1m> Entering new AgentExecutor chain...\u001b[0m\n",
      "\u001b[32;1m\u001b[1;3m\n",
      "Invoking: `retrieve_langchain_posts` with `{'query': 'langraph'}`\n",
      "\n",
      "\n",
      "\u001b[0m\u001b[33;1m\u001b[1;3mfrom prototype to production.Contact UsSign UpProductsLangChainLangSmithLangGraphAgentsEvaluationRetrievalResourcesPython DocsJS/TS DocsGitHubIntegrationsChangelogCommunityLangSmith Trust PortalCompanyAboutCareersBlogTwitterLinkedInYouTubeMarketing AssetsSign up for our newsletter to stay up to dateThank you! Your submission has been received!Oops! Something went wrong while submitting the form.All systems operationalPrivacy PolicyTerms of Service\n",
      "\n",
      "LangSmith\n",
      "\n",
      "\n",
      "\n",
      "\n",
      "\n",
      "\n",
      "\n",
      "\n",
      "\n",
      "\n",
      "\n",
      "\n",
      "\n",
      "\n",
      "\n",
      "\n",
      "\n",
      "\n",
      "\n",
      "\n",
      "\n",
      "\n",
      "\n",
      "\n",
      "\n",
      "\n",
      "\n",
      "\n",
      "\n",
      "\n",
      "Products\n",
      "\n",
      "LangChainLangSmithLangGraphMethods\n",
      "\n",
      "RetrievalAgentsEvaluationResources\n",
      "\n",
      "BlogCustomer StoriesLangChain AcademyCommunityExpertsChangelogLLM Evaluations GuideState of AI AgentsBreakout Agent StoriesDocs\n",
      "\n",
      "PythonLangChainLangSmithLangGraphJavaScriptLangChainLangSmithLangGraphCompany\n",
      "\n",
      "performance with LangSmith.Trusted by companies taking agency in AI innovation:LangGraph helps teams of all sizes, across all industries, from ambitious startups to established enterprises.“LangChain is streets ahead with what they've put forward with LangGraph. LangGraph sets the foundation for how we can build and scale AI workloads — from conversational agents, complex task automation, to custom LLM-backed experiences that 'just work'. The next chapter in building\n",
      "\n",
      "cognitive architecture for any taskLangGraph's flexible framework supports diverse control flows – single agent, multi-agent, hierarchical, sequential – and robustly handles realistic, complex scenarios. Ensure reliability with easy-to-add moderation and quality loops that prevent agents from veering off course.Use LangGraph Platform to templatize your cognitive architecture so that tools, prompts, and models are easily configurable with LangGraph Platform Assistants.See the docs\u001b[0m\u001b[32;1m\u001b[1;3mLangGraph is a framework for building and scaling AI workloads, particularly conversational agents and complex task automation. It provides a flexible and robust platform for creating cognitive architectures that can handle diverse control flows and realistic scenarios.\n",
      "\n",
      "Key features of LangGraph include:\n",
      "\n",
      "1. **Flexible framework**: Supports single agent, multi-agent, hierarchical, and sequential control flows.\n",
      "2. **Robust handling of complex scenarios**: Can handle realistic and complex scenarios with ease.\n",
      "3. **Moderation and quality loops**: Allows for easy addition of moderation and quality loops to prevent agents from veering off course.\n",
      "4. **Templatization**: Enables tools, prompts, and models to be easily configured and reused.\n",
      "\n",
      "LangGraph is designed to support a wide range of applications, including:\n",
      "\n",
      "1. Conversational agents\n",
      "2. Complex task automation\n",
      "3. Custom LLM-backed experiences\n",
      "\n",
      "Overall, LangGraph provides a powerful platform for building and scaling AI workloads, making it an attractive option for companies looking to innovate in the field of artificial intelligence.\u001b[0m\n",
      "\n",
      "\u001b[1m> Finished chain.\u001b[0m\n"
     ]
    },
    {
     "data": {
      "text/plain": [
       "{'input': 'What IS langraph',\n",
       " 'output': 'LangGraph is a framework for building and scaling AI workloads, particularly conversational agents and complex task automation. It provides a flexible and robust platform for creating cognitive architectures that can handle diverse control flows and realistic scenarios.\\n\\nKey features of LangGraph include:\\n\\n1. **Flexible framework**: Supports single agent, multi-agent, hierarchical, and sequential control flows.\\n2. **Robust handling of complex scenarios**: Can handle realistic and complex scenarios with ease.\\n3. **Moderation and quality loops**: Allows for easy addition of moderation and quality loops to prevent agents from veering off course.\\n4. **Templatization**: Enables tools, prompts, and models to be easily configured and reused.\\n\\nLangGraph is designed to support a wide range of applications, including:\\n\\n1. Conversational agents\\n2. Complex task automation\\n3. Custom LLM-backed experiences\\n\\nOverall, LangGraph provides a powerful platform for building and scaling AI workloads, making it an attractive option for companies looking to innovate in the field of artificial intelligence.'}"
      ]
     },
     "execution_count": 10,
     "metadata": {},
     "output_type": "execute_result"
    }
   ],
   "source": [
    "agent_execute.invoke({\"input\":\"What IS langraph\"})"
   ]
  },
  {
   "cell_type": "code",
   "execution_count": 11,
   "metadata": {},
   "outputs": [
    {
     "name": "stdout",
     "output_type": "stream",
     "text": [
      "\n",
      "\n",
      "\u001b[1m> Entering new AgentExecutor chain...\u001b[0m\n",
      "\u001b[32;1m\u001b[1;3m\n",
      "Invoking: `tavily_search_results_json` with `{'query': 'Hello, how are you?'}`\n",
      "\n",
      "\n",
      "\u001b[0m\u001b[36;1m\u001b[1;3m[{'url': 'https://www.youtube.com/watch?v=x23rTDl4AMs', 'content': \"Hello! How are you? I'm fine, thank you! Our good morning song for preschool is a great emotions song to help your preschoolers learn how to express their fe\"}, {'url': 'https://www.fluentu.com/blog/english/how-are-you-esl/', 'content': 'Say “hello” to as many people as you can and see how they answer your “How are you?”\\nOnce you’ve mastered this question, you might be so happy that you answer\\n“perfect”\\nto the next person who asks how you are!\\nDownload:\\n This can be paired with “same old” like this:\\n“How are you doing?”\\n“Oh, you know… same old”\\nI’ve been better\\nWhen there is something wrong, you can use “I’ve been better” as your first response.\\n The difference between “How are you?” and “How are you doing?”\\nThese phrases are very similar, but “how are you?” is slightly more formal, and may be used more commonly when someone is specifically asking about your health or wellbeing.\\n Let’s look at some formal (more polite) answers to “How are you?”\\nYou will use these answers when you’re talking to\\nacquaintances\\nand\\nstrangers\\n. This will lead your friend or relative to ask you\\n“What’s wrong?”\\nor something similar.\\nCould be worse\\nMaybe things aren’t going well lately, but you have some things to be thankful for.\\n'}, {'url': 'https://supersimple.com/song/hello/', 'content': \"Hello, hello, hello, how are you? Hello, hello, hello, how are you? Sheet Music. Download; Related Songs (Greetings) The People In My Family; We're Walking Down The Street; Bye Bye Goodbye | featuring Noodle & Pals; Hello, My Friends (Finny the Shark) Related Themes. Classroom Management; Emotions; Greetings.\"}, {'url': 'https://eslspeaking.org/ways-to-answer-how-are-you/', 'content': 'Different Ways to Answer How Are You\\nCreative Ways to Answer How Are You\\nThe following are more creative reply to the question “how are you?”\\nFAQs About How Are You Replies\\nHere are some of the most frequently asked questions about how to answer “how are you?” qusetion.\\n Following are some good ways to reply nicely to “how are you?”\\nDaily English Resources\\nIf you are looking for more English speaking resources like this one, check out the following topics.\\nWays to Answer How Are You: Join the Conversation\\nHow do you usually reply when someone says “how are you?” The Most Common 4 Letter Words from A to Z\\nAnimal Names: Animals that Start with the Letter E\\nDifferent Ways to Say Good Night in English\\nThe Most Common 5 Letter Words from A to Z\\nJackie Bolen has been talking ESL speaking since 2014 and the goal is to bring you the best recommendations for English conversation games, activities, lesson plans and more. Following are some flirty responses to “How are you?”:\\nIs it polite to say how are you?\\nYes, asking “how are you” is considered polite and a common social nicety. in ESL Speaking Resources· Learn English\\nDifferent Ways to Answer the Question “How Are You?”\\nThe most commonly asked question in English is probably “How are you?”'}, {'url': 'https://view.genially.com/6559d7e6dbe05800110833d1/interactive-content-hello-how-are-you', 'content': \"How are you today? Puedes escribir un título aquí. Puedes escribir aquí un subtítulo genial. The weather is ... What's the weather like today? cold. hot. warm. sunny. windy. cloudy. snowy. rainy. Puedes escribir un título aquí. Puedes escribir aquí un subtítulo genial. farm animals. parts of body. clothes. feelings. describing people\"}]\u001b[0m\u001b[32;1m\u001b[1;3mHello! How are you?\n",
      "\n",
      "There are many ways to answer the question \"How are you?\" depending on your tone and relationship with the person asking. Here are a few examples:\n",
      "\n",
      "* Formal answers: \"I'm fine, thank you\" or \"I've been better\"\n",
      "* Informal answers: \"I'm good\" or \"I'm doing well\"\n",
      "* Creative responses: You can also use creative responses like \"I'm having a great day!\" or \"I'm feeling happy and energized!\"\n",
      "\n",
      "It's always polite to answer the question with a positive tone, even if you're not feeling your best. And don't forget to ask how the other person is doing!\n",
      "\n",
      "If you want to learn more about how to answer this question in English, there are many resources available online, such as videos, articles, and interactive exercises.\n",
      "\n",
      "Is there anything else I can help you with?\u001b[0m\n",
      "\n",
      "\u001b[1m> Finished chain.\u001b[0m\n"
     ]
    },
    {
     "data": {
      "text/plain": [
       "{'input': 'Hello how are you?',\n",
       " 'output': 'Hello! How are you?\\n\\nThere are many ways to answer the question \"How are you?\" depending on your tone and relationship with the person asking. Here are a few examples:\\n\\n* Formal answers: \"I\\'m fine, thank you\" or \"I\\'ve been better\"\\n* Informal answers: \"I\\'m good\" or \"I\\'m doing well\"\\n* Creative responses: You can also use creative responses like \"I\\'m having a great day!\" or \"I\\'m feeling happy and energized!\"\\n\\nIt\\'s always polite to answer the question with a positive tone, even if you\\'re not feeling your best. And don\\'t forget to ask how the other person is doing!\\n\\nIf you want to learn more about how to answer this question in English, there are many resources available online, such as videos, articles, and interactive exercises.\\n\\nIs there anything else I can help you with?'}"
      ]
     },
     "execution_count": 11,
     "metadata": {},
     "output_type": "execute_result"
    }
   ],
   "source": [
    "agent_execute.invoke({\"input\":\"Hello how are you?\"})"
   ]
  },
  {
   "cell_type": "markdown",
   "metadata": {},
   "source": [
    "## Add Memory"
   ]
  },
  {
   "cell_type": "code",
   "execution_count": 12,
   "metadata": {},
   "outputs": [
    {
     "name": "stdout",
     "output_type": "stream",
     "text": [
      "\n",
      "\n",
      "\u001b[1m> Entering new AgentExecutor chain...\u001b[0m\n",
      "\u001b[32;1m\u001b[1;3m\n",
      "Invoking: `tavily_search_results_json` with `{'query': 'how are you today'}`\n",
      "\n",
      "\n",
      "\u001b[0m\u001b[36;1m\u001b[1;3m[{'url': 'https://oneminuteenglish.org/answer-how-are-you-today/', 'content': 'Learn how to respond to this common greeting in different situations, such as a conversation, an interview, or a group setting. Find out the difference between \"How are you?\" and \"How are you today?\" and see examples of both.'}, {'url': 'https://status.net/articles/examples-how-to-answer-how-are-you/', 'content': '30 Great Examples: How To Answer “How Are You?” “How are you doing?” “How have you been?” How To Answer “How Are You?” When someone asks “How are you?”, you can respond in various ways depending on your mood and situation. “I’m great, thanks for asking!” “I’m doing well, how about you?” “I’m fine, thanks.” “I’m having a rough day.” “I’m feeling a bit down.” Your response to “How are you?” can change based on who you’re talking to and where you are. “I’m doing well, thank you.” “I’m fine, thanks for asking.” “I’m having a good day so far.” “I’m doing great, how about you?” “I’m good, thanks!” How have you been?” A quick “I’m doing well, thanks!” is often enough.'}, {'url': 'https://betterresponses.com/answers-to-how-are-you-today-at-interview/', 'content': 'Learn how to respond to this common interview question with positive and unique answers. Find out why interviewers ask this question and how to show your confidence and enthusiasm.'}, {'url': 'https://eslspeaking.org/ways-to-answer-how-are-you/', 'content': 'Different Ways to Answer How Are You\\nCreative Ways to Answer How Are You\\nThe following are more creative reply to the question “how are you?”\\nFAQs About How Are You Replies\\nHere are some of the most frequently asked questions about how to answer “how are you?” qusetion.\\n Following are some good ways to reply nicely to “how are you?”\\nDaily English Resources\\nIf you are looking for more English speaking resources like this one, check out the following topics.\\nWays to Answer How Are You: Join the Conversation\\nHow do you usually reply when someone says “how are you?” The Most Common 4 Letter Words from A to Z\\nAnimal Names: Animals that Start with the Letter E\\nDifferent Ways to Say Good Night in English\\nThe Most Common 5 Letter Words from A to Z\\nJackie Bolen has been talking ESL speaking since 2014 and the goal is to bring you the best recommendations for English conversation games, activities, lesson plans and more. Following are some flirty responses to “How are you?”:\\nIs it polite to say how are you?\\nYes, asking “how are you” is considered polite and a common social nicety. in ESL Speaking Resources· Learn English\\nDifferent Ways to Answer the Question “How Are You?”\\nThe most commonly asked question in English is probably “How are you?”'}, {'url': 'https://games4esl.com/how-are-you/', 'content': 'Here are some common ways to answer:\\nGood\\nThe most common way to answer “How are you?” or “How are you doing?” is to simply say “Good”. Variations\\nHere are some common variations of “How are you?” that you might be asked when somebody is greeting you:\\nResponding To “How Are You?” The important thing to remember is that if you are responding to this question with people you are not particularly close with, then you should just respond with a short positive response (“good”, “fine”, etc). Not Bad\\nJust like “okay”, the response “Not bad” also has a neutral feel and is a common way to reply to “How are you?”.\\n Fine\\nAnother way to respond to “How are you?” is to say “Fine” or “I’m fine.”'}]\u001b[0m\u001b[32;1m\u001b[1;3mHello Aman! I'm doing well, thank you for asking. How about you? Is there anything I can help you with today?\u001b[0m\n",
      "\n",
      "\u001b[1m> Finished chain.\u001b[0m\n"
     ]
    },
    {
     "data": {
      "text/plain": [
       "{'input': 'hi! my name is Aman how are you?',\n",
       " 'chat_history': [],\n",
       " 'output': \"Hello Aman! I'm doing well, thank you for asking. How about you? Is there anything I can help you with today?\"}"
      ]
     },
     "execution_count": 12,
     "metadata": {},
     "output_type": "execute_result"
    }
   ],
   "source": [
    "from langchain_community.chat_message_histories import ChatMessageHistory\n",
    "from langchain_core.runnables.history import RunnableWithMessageHistory\n",
    "message_history=ChatMessageHistory()\n",
    "agent_with_chat_history = RunnableWithMessageHistory(\n",
    "    agent_execute,\n",
    "    lambda session_id: message_history,\n",
    "    input_messages_key=\"input\",\n",
    "    history_messages_key=\"chat_history\",\n",
    ")\n",
    "agent_with_chat_history.invoke(\n",
    "    {\"input\": \"hi! my name is Aman how are you?\"},\n",
    "    config={\"configurable\": {\"session_id\": \"firstchat\"}},\n",
    ")"
   ]
  },
  {
   "cell_type": "code",
   "execution_count": 13,
   "metadata": {},
   "outputs": [
    {
     "name": "stdout",
     "output_type": "stream",
     "text": [
      "\n",
      "\n",
      "\u001b[1m> Entering new AgentExecutor chain...\u001b[0m\n",
      "\u001b[32;1m\u001b[1;3m\n",
      "Invoking: `retrieve_langchain_posts` with `{'query': 'Langsmith or Langraph'}`\n",
      "\n",
      "\n",
      "\u001b[0m\u001b[33;1m\u001b[1;3mfrom prototype to production.Contact UsSign UpProductsLangChainLangSmithLangGraphAgentsEvaluationRetrievalResourcesPython DocsJS/TS DocsGitHubIntegrationsChangelogCommunityLangSmith Trust PortalCompanyAboutCareersBlogTwitterLinkedInYouTubeMarketing AssetsSign up for our newsletter to stay up to dateThank you! Your submission has been received!Oops! Something went wrong while submitting the form.All systems operationalPrivacy PolicyTerms of Service\n",
      "\n",
      "LangSmith\n",
      "\n",
      "\n",
      "\n",
      "\n",
      "\n",
      "\n",
      "\n",
      "\n",
      "\n",
      "\n",
      "\n",
      "\n",
      "\n",
      "\n",
      "\n",
      "\n",
      "\n",
      "\n",
      "\n",
      "\n",
      "\n",
      "\n",
      "\n",
      "\n",
      "\n",
      "\n",
      "\n",
      "\n",
      "\n",
      "\n",
      "Products\n",
      "\n",
      "LangChainLangSmithLangGraphMethods\n",
      "\n",
      "RetrievalAgentsEvaluationResources\n",
      "\n",
      "BlogCustomer StoriesLangChain AcademyCommunityExpertsChangelogLLM Evaluations GuideState of AI AgentsBreakout Agent StoriesDocs\n",
      "\n",
      "PythonLangChainLangSmithLangGraphJavaScriptLangChainLangSmithLangGraphCompany\n",
      "\n",
      "performance with LangSmith.Trusted by companies taking agency in AI innovation:LangGraph helps teams of all sizes, across all industries, from ambitious startups to established enterprises.“LangChain is streets ahead with what they've put forward with LangGraph. LangGraph sets the foundation for how we can build and scale AI workloads — from conversational agents, complex task automation, to custom LLM-backed experiences that 'just work'. The next chapter in building\n",
      "\n",
      "LangGraph enables granular control over the agent's thought process, which has empowered us to make data-driven and deliberate decisions to meet the diverse needs of our guests.”Andres TorresSr. Solutions Architect“It's easy to build the prototype of a coding agent, but deceptively hard to improve its reliability. Replit wants to give a coding agent to millions of users — reliability is our top priority, and will remain so for a long time. LangGraph is giving\u001b[0m\u001b[32;1m\u001b[1;3mAman, your name is Aman. I apologize for the detour earlier! Let's get back on track. Is there anything specific you'd like to know or discuss? I'm here to help with any questions or topics you'd like to explore.\u001b[0m\n",
      "\n",
      "\u001b[1m> Finished chain.\u001b[0m\n"
     ]
    },
    {
     "data": {
      "text/plain": [
       "{'input': 'What is my name?',\n",
       " 'chat_history': [HumanMessage(content='hi! my name is Aman how are you?', additional_kwargs={}, response_metadata={}),\n",
       "  AIMessage(content=\"Hello Aman! I'm doing well, thank you for asking. How about you? Is there anything I can help you with today?\", additional_kwargs={}, response_metadata={})],\n",
       " 'output': \"Aman, your name is Aman. I apologize for the detour earlier! Let's get back on track. Is there anything specific you'd like to know or discuss? I'm here to help with any questions or topics you'd like to explore.\"}"
      ]
     },
     "execution_count": 13,
     "metadata": {},
     "output_type": "execute_result"
    }
   ],
   "source": [
    "agent_with_chat_history.invoke(\n",
    "    {\"input\": \"What is my name?\"},\n",
    "    config={\"configurable\": {\"session_id\": \"firstchat\"}},\n",
    ")"
   ]
  }
 ],
 "metadata": {
  "kernelspec": {
   "display_name": "venv",
   "language": "python",
   "name": "python3"
  },
  "language_info": {
   "codemirror_mode": {
    "name": "ipython",
    "version": 3
   },
   "file_extension": ".py",
   "mimetype": "text/x-python",
   "name": "python",
   "nbconvert_exporter": "python",
   "pygments_lexer": "ipython3",
   "version": "3.12.3"
  }
 },
 "nbformat": 4,
 "nbformat_minor": 2
}
