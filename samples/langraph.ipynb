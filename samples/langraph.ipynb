{
 "cells": [
  {
   "cell_type": "code",
   "execution_count": 7,
   "metadata": {},
   "outputs": [
    {
     "data": {
      "image/png": "[encoded data removed]",
      "text/plain": [
       "<IPython.core.display.Image object>"
      ]
     },
     "metadata": {},
     "output_type": "display_data"
    }
   ],
   "source": [
    "from langgraph.graph import Graph\n",
    "\n",
    "def function1(word):\n",
    "    return word+\"has no of words\"\n",
    "\n",
    "def function2(word):\n",
    "    return word+ \"name is aman\"\n",
    "\n",
    "\n",
    "\n",
    "##------Intitalise Graph\n",
    "graph=Graph()\n",
    "###---Add Nodes\n",
    "graph.add_node(\"function1\", function1)\n",
    "graph.add_node(\"function2\",function2)\n",
    "\n",
    "##----Add Edges (Means after func1 output funbction 2 willl be come input)\n",
    "graph.add_edge(\"function1\", \"function2\")\n",
    "\n",
    "###---Entry Point to Graph\n",
    "graph.set_entry_point(\"function1\")\n",
    "\n",
    "##------Exit Point to Graph\n",
    "graph.set_finish_point(\"function2\")\n",
    "\n",
    "###----Compile Graph\n",
    "app=graph.compile()\n",
    "\n",
    "from IPython.display import display,Image\n",
    "try:\n",
    "    display(Image(app.get_graph().draw_mermaid_png()))\n",
    "except Exception as e:\n",
    "    print(e)"
   ]
  },
  {
   "cell_type": "code",
   "execution_count": 8,
   "metadata": {},
   "outputs": [
    {
     "data": {
      "text/plain": [
       "'Hi Aman this sidehas no of wordsname is aman'"
      ]
     },
     "execution_count": 8,
     "metadata": {},
     "output_type": "execute_result"
    }
   ],
   "source": [
    "app.invoke(\"Hi Aman this side\")"
   ]
  },
  {
   "cell_type": "markdown",
   "metadata": {},
   "source": [
    "## LLM Flow"
   ]
  },
  {
   "cell_type": "code",
   "execution_count": 9,
   "metadata": {},
   "outputs": [
    {
     "data": {
      "image/png": "[encoded data removed]",
      "text/plain": [
       "<IPython.core.display.Image object>"
      ]
     },
     "metadata": {},
     "output_type": "display_data"
    }
   ],
   "source": [
    "import os\n",
    "from dotenv import load_dotenv\n",
    "load_dotenv()\n",
    "os.environ['SERPER_API_KEY']\n",
    "os.environ['LANGSMITH_API_KEY']\n",
    "os.environ['LANGSMITH_PROJECT']\n",
    "os.environ['TAVILY_API_KEY']\n",
    "from langchain_ollama import ChatOllama\n",
    "def llm_talk(input):\n",
    "    llm=ChatOllama(model=\"llama3.2\",temperature=0)\n",
    "    response=llm.invoke(input).content\n",
    "    return response\n",
    "def uppercase(input):\n",
    "    input=input.upper()\n",
    "    return input\n",
    "\n",
    "graph2=Graph()\n",
    "graph2.add_node(\"llm_talk\", llm_talk)\n",
    "graph2.add_node(\"uppercase\", uppercase)\n",
    "graph2.add_edge(\"llm_talk\", \"uppercase\")\n",
    "graph2.set_entry_point(\"llm_talk\")\n",
    "graph2.set_finish_point(\"uppercase\")\n",
    "app2=graph2.compile()\n",
    "from IPython.display import display,Image\n",
    "try:\n",
    "    display(Image(app2.get_graph().draw_mermaid_png()))\n",
    "except Exception as e:\n",
    "    print(e)"
   ]
  },
  {
   "cell_type": "code",
   "execution_count": 10,
   "metadata": {},
   "outputs": [
    {
     "data": {
      "text/plain": [
       "\"LLM STANDS FOR LARGE LANGUAGE MODEL. IT'S A TYPE OF ARTIFICIAL INTELLIGENCE (AI) MODEL THAT'S DESIGNED TO PROCESS AND UNDERSTAND HUMAN LANGUAGE AT A MASSIVE SCALE.\\n\\nLARGE LANGUAGE MODELS ARE TYPICALLY TRAINED ON VAST AMOUNTS OF TEXT DATA, WHICH ENABLES THEM TO LEARN PATTERNS, RELATIONSHIPS, AND STRUCTURES WITHIN LANGUAGE. THIS TRAINING ALLOWS THE MODEL TO GENERATE HUMAN-LIKE TEXT, ANSWER QUESTIONS, SUMMARIZE CONTENT, AND EVEN ENGAGE IN CONVERSATION.\\n\\nSOME KEY CHARACTERISTICS OF LARGE LANGUAGE MODELS INCLUDE:\\n\\n1. **MASSIVE SCALE**: LLMS ARE TRAINED ON ENORMOUS AMOUNTS OF DATA, OFTEN IN THE TENS OR HUNDREDS OF BILLIONS OF PARAMETERS.\\n2. **LANGUAGE UNDERSTANDING**: THEY'RE DESIGNED TO COMPREHEND THE NUANCES OF HUMAN LANGUAGE, INCLUDING GRAMMAR, SYNTAX, AND SEMANTICS.\\n3. **TEXT GENERATION**: LLMS CAN PRODUCE COHERENT AND CONTEXTUALLY RELEVANT TEXT BASED ON THE INPUT THEY RECEIVE.\\n\\nLARGE LANGUAGE MODELS HAVE MANY APPLICATIONS, SUCH AS:\\n\\n1. **VIRTUAL ASSISTANTS**: CHATBOTS AND VOICE ASSISTANTS LIKE SIRI, ALEXA, OR GOOGLE ASSISTANT USE LLMS TO UNDERSTAND USER QUERIES AND RESPOND ACCORDINGLY.\\n2. **LANGUAGE TRANSLATION**: LLMS CAN BE USED FOR MACHINE TRANSLATION, ENABLING HUMANS TO COMMUNICATE ACROSS LANGUAGES.\\n3. **CONTENT GENERATION**: THEY'RE EMPLOYED IN CONTENT CREATION TOOLS, SUCH AS TEXT SUMMARIZATION, ARTICLE WRITING, AND EVEN CREATIVE WRITING.\\n4. **CONVERSATIONAL AI**: LLMS POWER CONVERSATIONAL INTERFACES, LIKE CUSTOMER SERVICE CHATBOTS OR LANGUAGE LEARNING PLATFORMS.\\n\\nSOME POPULAR EXAMPLES OF LARGE LANGUAGE MODELS INCLUDE:\\n\\n1. **BERT** (BIDIRECTIONAL ENCODER REPRESENTATIONS FROM TRANSFORMERS)\\n2. **ROBERTA** (ROBUSTLY OPTIMIZED BERT PRETRAINING APPROACH)\\n3. **LONGFORMER** (A VARIANT OF BERT THAT USES A DIFFERENT ATTENTION MECHANISM)\\n\\nTHESE MODELS HAVE REVOLUTIONIZED THE FIELD OF NATURAL LANGUAGE PROCESSING AND CONTINUE TO IMPROVE OUR ABILITY TO INTERACT WITH MACHINES USING HUMAN-LIKE LANGUAGE.\\n\\nDO YOU HAVE ANY SPECIFIC QUESTIONS ABOUT LARGE LANGUAGE MODELS OR THEIR APPLICATIONS?\""
      ]
     },
     "execution_count": 10,
     "metadata": {},
     "output_type": "execute_result"
    }
   ],
   "source": [
    "app2.invoke(\"What is LLM?\")"
   ]
  },
  {
   "cell_type": "code",
   "execution_count": 11,
   "metadata": {},
   "outputs": [
    {
     "name": "stdout",
     "output_type": "stream",
     "text": [
      "Here is the output :llm_talk\n",
      "________\n",
      "Machine learning (ML) is a subset of artificial intelligence (AI) that involves training algorithms to make predictions or decisions based on data. The goal of ML is to enable machines to learn from experience, identify patterns, and improve their performance over time.\n",
      "\n",
      "In traditional programming, a computer program is written to perform a specific task. In contrast, machine learning algorithms are designed to learn from data without being explicitly programmed. Instead, they use statistical models and algorithms to analyze the data and make predictions or decisions.\n",
      "\n",
      "Machine learning involves several key steps:\n",
      "\n",
      "1. **Data collection**: Gathering relevant data that can be used to train the algorithm.\n",
      "2. **Data preprocessing**: Cleaning, transforming, and preparing the data for training.\n",
      "3. **Model selection**: Choosing a suitable machine learning algorithm based on the problem type and data characteristics.\n",
      "4. **Training**: Feeding the preprocessed data into the algorithm to learn from it.\n",
      "5. **Evaluation**: Assessing the performance of the trained model using metrics such as accuracy, precision, and recall.\n",
      "\n",
      "Machine learning algorithms can be broadly classified into two categories:\n",
      "\n",
      "1. **Supervised learning**: The algorithm is trained on labeled data, where each example is associated with a target output. The goal is to learn a mapping between input data and output labels.\n",
      "2. **Unsupervised learning**: The algorithm is trained on unlabeled data, and the goal is to discover patterns or structure in the data.\n",
      "\n",
      "Some common machine learning algorithms include:\n",
      "\n",
      "1. Linear regression\n",
      "2. Decision trees\n",
      "3. Random forests\n",
      "4. Support vector machines (SVMs)\n",
      "5. Neural networks\n",
      "\n",
      "Machine learning has numerous applications across various industries, including:\n",
      "\n",
      "1. **Computer vision**: Image recognition, object detection, and facial recognition.\n",
      "2. **Natural language processing**: Text analysis, sentiment analysis, and language translation.\n",
      "3. **Speech recognition**: Voice assistants, speech-to-text systems, and voice-controlled interfaces.\n",
      "4. **Predictive maintenance**: Predicting equipment failures, energy consumption, and other critical events.\n",
      "5. **Recommendation systems**: Personalized product recommendations, content suggestions, and advertising targeting.\n",
      "\n",
      "The benefits of machine learning include:\n",
      "\n",
      "1. **Improved accuracy**: Machine learning algorithms can achieve high accuracy in predicting outcomes or making decisions.\n",
      "2. **Increased efficiency**: Automated decision-making can reduce manual effort and improve productivity.\n",
      "3. **Scalability**: Machine learning models can be deployed on large datasets, enabling scalable solutions for complex problems.\n",
      "\n",
      "However, machine learning also has its limitations and challenges, such as:\n",
      "\n",
      "1. **Data quality issues**: Poor data quality or availability can lead to biased or inaccurate results.\n",
      "2. **Overfitting**: Models may become too specialized to the training data and fail to generalize well to new situations.\n",
      "3. **Explainability**: It can be difficult to understand how machine learning models arrive at their predictions or decisions.\n",
      "\n",
      "Overall, machine learning is a powerful tool for solving complex problems in various domains, but it requires careful consideration of its limitations and challenges.\n",
      "\n",
      "\n",
      "Here is the output :uppercase\n",
      "________\n",
      "MACHINE LEARNING (ML) IS A SUBSET OF ARTIFICIAL INTELLIGENCE (AI) THAT INVOLVES TRAINING ALGORITHMS TO MAKE PREDICTIONS OR DECISIONS BASED ON DATA. THE GOAL OF ML IS TO ENABLE MACHINES TO LEARN FROM EXPERIENCE, IDENTIFY PATTERNS, AND IMPROVE THEIR PERFORMANCE OVER TIME.\n",
      "\n",
      "IN TRADITIONAL PROGRAMMING, A COMPUTER PROGRAM IS WRITTEN TO PERFORM A SPECIFIC TASK. IN CONTRAST, MACHINE LEARNING ALGORITHMS ARE DESIGNED TO LEARN FROM DATA WITHOUT BEING EXPLICITLY PROGRAMMED. INSTEAD, THEY USE STATISTICAL MODELS AND ALGORITHMS TO ANALYZE THE DATA AND MAKE PREDICTIONS OR DECISIONS.\n",
      "\n",
      "MACHINE LEARNING INVOLVES SEVERAL KEY STEPS:\n",
      "\n",
      "1. **DATA COLLECTION**: GATHERING RELEVANT DATA THAT CAN BE USED TO TRAIN THE ALGORITHM.\n",
      "2. **DATA PREPROCESSING**: CLEANING, TRANSFORMING, AND PREPARING THE DATA FOR TRAINING.\n",
      "3. **MODEL SELECTION**: CHOOSING A SUITABLE MACHINE LEARNING ALGORITHM BASED ON THE PROBLEM TYPE AND DATA CHARACTERISTICS.\n",
      "4. **TRAINING**: FEEDING THE PREPROCESSED DATA INTO THE ALGORITHM TO LEARN FROM IT.\n",
      "5. **EVALUATION**: ASSESSING THE PERFORMANCE OF THE TRAINED MODEL USING METRICS SUCH AS ACCURACY, PRECISION, AND RECALL.\n",
      "\n",
      "MACHINE LEARNING ALGORITHMS CAN BE BROADLY CLASSIFIED INTO TWO CATEGORIES:\n",
      "\n",
      "1. **SUPERVISED LEARNING**: THE ALGORITHM IS TRAINED ON LABELED DATA, WHERE EACH EXAMPLE IS ASSOCIATED WITH A TARGET OUTPUT. THE GOAL IS TO LEARN A MAPPING BETWEEN INPUT DATA AND OUTPUT LABELS.\n",
      "2. **UNSUPERVISED LEARNING**: THE ALGORITHM IS TRAINED ON UNLABELED DATA, AND THE GOAL IS TO DISCOVER PATTERNS OR STRUCTURE IN THE DATA.\n",
      "\n",
      "SOME COMMON MACHINE LEARNING ALGORITHMS INCLUDE:\n",
      "\n",
      "1. LINEAR REGRESSION\n",
      "2. DECISION TREES\n",
      "3. RANDOM FORESTS\n",
      "4. SUPPORT VECTOR MACHINES (SVMS)\n",
      "5. NEURAL NETWORKS\n",
      "\n",
      "MACHINE LEARNING HAS NUMEROUS APPLICATIONS ACROSS VARIOUS INDUSTRIES, INCLUDING:\n",
      "\n",
      "1. **COMPUTER VISION**: IMAGE RECOGNITION, OBJECT DETECTION, AND FACIAL RECOGNITION.\n",
      "2. **NATURAL LANGUAGE PROCESSING**: TEXT ANALYSIS, SENTIMENT ANALYSIS, AND LANGUAGE TRANSLATION.\n",
      "3. **SPEECH RECOGNITION**: VOICE ASSISTANTS, SPEECH-TO-TEXT SYSTEMS, AND VOICE-CONTROLLED INTERFACES.\n",
      "4. **PREDICTIVE MAINTENANCE**: PREDICTING EQUIPMENT FAILURES, ENERGY CONSUMPTION, AND OTHER CRITICAL EVENTS.\n",
      "5. **RECOMMENDATION SYSTEMS**: PERSONALIZED PRODUCT RECOMMENDATIONS, CONTENT SUGGESTIONS, AND ADVERTISING TARGETING.\n",
      "\n",
      "THE BENEFITS OF MACHINE LEARNING INCLUDE:\n",
      "\n",
      "1. **IMPROVED ACCURACY**: MACHINE LEARNING ALGORITHMS CAN ACHIEVE HIGH ACCURACY IN PREDICTING OUTCOMES OR MAKING DECISIONS.\n",
      "2. **INCREASED EFFICIENCY**: AUTOMATED DECISION-MAKING CAN REDUCE MANUAL EFFORT AND IMPROVE PRODUCTIVITY.\n",
      "3. **SCALABILITY**: MACHINE LEARNING MODELS CAN BE DEPLOYED ON LARGE DATASETS, ENABLING SCALABLE SOLUTIONS FOR COMPLEX PROBLEMS.\n",
      "\n",
      "HOWEVER, MACHINE LEARNING ALSO HAS ITS LIMITATIONS AND CHALLENGES, SUCH AS:\n",
      "\n",
      "1. **DATA QUALITY ISSUES**: POOR DATA QUALITY OR AVAILABILITY CAN LEAD TO BIASED OR INACCURATE RESULTS.\n",
      "2. **OVERFITTING**: MODELS MAY BECOME TOO SPECIALIZED TO THE TRAINING DATA AND FAIL TO GENERALIZE WELL TO NEW SITUATIONS.\n",
      "3. **EXPLAINABILITY**: IT CAN BE DIFFICULT TO UNDERSTAND HOW MACHINE LEARNING MODELS ARRIVE AT THEIR PREDICTIONS OR DECISIONS.\n",
      "\n",
      "OVERALL, MACHINE LEARNING IS A POWERFUL TOOL FOR SOLVING COMPLEX PROBLEMS IN VARIOUS DOMAINS, BUT IT REQUIRES CAREFUL CONSIDERATION OF ITS LIMITATIONS AND CHALLENGES.\n",
      "\n",
      "\n"
     ]
    }
   ],
   "source": [
    "input=\"What is Machine Learning?\"\n",
    "for i in app2.stream(input):\n",
    "    for key,value in i.items():\n",
    "        print(f\"Here is the output :{key}\")\n",
    "        print(\"________\")\n",
    "        print(value)\n",
    "        print(\"\\n\")"
   ]
  }
 ],
 "metadata": {
  "kernelspec": {
   "display_name": "venv",
   "language": "python",
   "name": "python3"
  },
  "language_info": {
   "codemirror_mode": {
    "name": "ipython",
    "version": 3
   },
   "file_extension": ".py",
   "mimetype": "text/x-python",
   "name": "python",
   "nbconvert_exporter": "python",
   "pygments_lexer": "ipython3",
   "version": "3.12.3"
  }
 },
 "nbformat": 4,
 "nbformat_minor": 2
}
